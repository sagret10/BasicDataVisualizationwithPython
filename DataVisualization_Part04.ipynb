{
 "cells": [
  {
   "cell_type": "markdown",
   "id": "eafdf085-ce2f-4ec9-8698-6862463aaaca",
   "metadata": {},
   "source": [
    "# <font color='green'> Data Visualization </font>\n",
    "# <font color='Blue'> Part Four </font>"
   ]
  },
  {
   "cell_type": "markdown",
   "id": "81981c67-1ace-4551-b92b-52379192de9e",
   "metadata": {},
   "source": [
    "## <font color='Blue'> Author Details </font>"
   ]
  },
  {
   "cell_type": "code",
   "execution_count": 3,
   "id": "97b6946d-9c96-4cb5-adb1-30471e6ad738",
   "metadata": {},
   "outputs": [
    {
     "name": "stdout",
     "output_type": "stream",
     "text": [
      "Created the day:  01/09/2024\n",
      "Author: Dr. Marcos A. Albarracin Manrique\n"
     ]
    }
   ],
   "source": [
    "from datetime import datetime\n",
    "\n",
    "current_date_and_time = datetime.now()\n",
    "date_and_time_in_text = current_date_and_time.strftime('%d/%m/%Y')\n",
    "\n",
    "print('Created the day: ', date_and_time_in_text)\n",
    "print('Author: Dr. Marcos A. Albarracin Manrique') "
   ]
  },
  {
   "cell_type": "markdown",
   "id": "dcc7e295-c4f4-4cd3-87fc-61a0e099b5c2",
   "metadata": {},
   "source": [
    "## <font color='blue'> Description </font>"
   ]
  },
  {
   "cell_type": "markdown",
   "id": "ac2c1ff7-8b57-43b4-abe4-409e0893002c",
   "metadata": {},
   "source": [
    "> We will model the data from the file 'GoalsInLeague.txt'. This file contains the results of a number of football matches from a certain football league. The first line of the file stores the number of goals scored by the home teams and the second line stores the number of goals scored by the visiting teams."
   ]
  },
  {
   "cell_type": "markdown",
   "id": "143d8e83-0cc0-448e-9cfe-dd8ce5cd0e35",
   "metadata": {},
   "source": [
    "## <font color='blue'> Loading the Required Packages </font>"
   ]
  },
  {
   "cell_type": "code",
   "execution_count": 7,
   "id": "c0d63b8d-3870-451c-86e2-e1a3da9f8728",
   "metadata": {},
   "outputs": [],
   "source": [
    "import matplotlib.pyplot as plt                    \n",
    "from matplotlib.ticker import MultipleLocator      \n",
    "from matplotlib.ticker import FormatStrFormatter\n",
    "from matplotlib.patches import Rectangle\n",
    "import matplotlib.image as mpimg\n",
    "from mpl_toolkits.mplot3d import Axes3D\n",
    "import math\n",
    "import warnings\n",
    "warnings.filterwarnings('ignore')\n",
    "#%matplotlib widget"
   ]
  },
  {
   "cell_type": "markdown",
   "id": "8d0098a5-eb1b-47bd-87cf-7a56109c8a6d",
   "metadata": {},
   "source": [
    "- **In case we want to customize the graphics, we can use 'style'.**"
   ]
  },
  {
   "cell_type": "code",
   "execution_count": 9,
   "id": "06742b34-6ebc-4b2f-8ec8-b7fdc0a256f0",
   "metadata": {},
   "outputs": [],
   "source": [
    "#print(plt.style.available) \n",
    "plt.style.use(\"Solarize_Light2\")"
   ]
  },
  {
   "cell_type": "markdown",
   "id": "e931a76d-a23a-4442-b33f-f39e0e519cb7",
   "metadata": {},
   "source": [
    "## <font color='blue'> Opening, Reading, Formatting the File and Storing Data in Lists </font> "
   ]
  },
  {
   "cell_type": "code",
   "execution_count": 11,
   "id": "0913c569-67a7-4dec-9b6e-d5ece58dd0b2",
   "metadata": {},
   "outputs": [],
   "source": [
    "with open(\"GoalsInLeague.txt\", \"r\") as dataGoals:\n",
    "    # First line\n",
    "    TheHomeTeam = dataGoals.readline()\n",
    "    TheHomeTeam = TheHomeTeam.strip(\" \\n\") # Extra space + \\n\n",
    "    TheHomeTeam = TheHomeTeam.split(\" \")\n",
    "\n",
    "    TheHomeTeamGoals = [int(x) for x in TheHomeTeam]\n",
    "\n",
    "    # Second Line\n",
    "    TheVisitingTeam = dataGoals.readline()\n",
    "    TheVisitingTeam = TheVisitingTeam.strip(\" \\n\")\n",
    "    TheVisitingTeam = TheVisitingTeam.split(\" \")\n",
    "\n",
    "    TheVisitingTeamGoals = [int(x) for x in TheVisitingTeam]"
   ]
  },
  {
   "cell_type": "code",
   "execution_count": 12,
   "id": "df1c715c-f0dd-466f-b55e-ae8668d90c0b",
   "metadata": {},
   "outputs": [],
   "source": [
    "#print(TheHomeTeamGoals)\n",
    "#print(TheVisitingTeamGoals)"
   ]
  },
  {
   "cell_type": "markdown",
   "id": "6ac4df8e-10dd-42d5-b1a9-113861d9af5d",
   "metadata": {},
   "source": [
    "## <font color='blue'> Bar Graph </font> "
   ]
  },
  {
   "cell_type": "markdown",
   "id": "60838580-a2dc-4bd9-9c51-59ab2614042a",
   "metadata": {},
   "source": [
    "### <font color='red'> Calculate the average goal values ​​for the home and visiting teams </font>   "
   ]
  },
  {
   "cell_type": "code",
   "execution_count": 15,
   "id": "2faa70a2-f718-4ee0-bf6c-de6e072cfebc",
   "metadata": {},
   "outputs": [],
   "source": [
    "AveTheHomeTeamGoals = sum(TheHomeTeamGoals) / len(TheHomeTeamGoals)\n",
    "AveTheVisitingTeamGoals = sum(TheVisitingTeamGoals) / len(TheVisitingTeamGoals)         "
   ]
  },
  {
   "cell_type": "code",
   "execution_count": 16,
   "id": "5a60e581-183e-41b3-b371-0a9d0a28ddc7",
   "metadata": {},
   "outputs": [
    {
     "data": {
      "image/png": "[encoded data removed]",
      "text/plain": [
       "<Figure size 1200x600 with 2 Axes>"
      ]
     },
     "metadata": {},
     "output_type": "display_data"
    }
   ],
   "source": [
    "# Plot area definition.\n",
    "fig = plt.figure(\"First\", figsize = (12, 6)) #(width, height) \n",
    "\n",
    "ax1 = fig.add_subplot(1, 2, 1) \n",
    "ax1.bar(x = [1, 2], \n",
    "        height = [AveTheHomeTeamGoals, AveTheVisitingTeamGoals], \n",
    "        align = 'center', # align{'center', 'edge'}, default: 'center'\n",
    "        width = 0.55,\n",
    "        color = ['red', 'black'],\n",
    "        bottom = [0.2, 0.1]) # bottom = bar coordinates\n",
    "\n",
    "plt.xticks([1, 2], ['Home Time', 'Visiting Time'])\n",
    "\n",
    "ax1.set_ylim(0,2)\n",
    "ax1.set_xlim(0.5, 2.5)\n",
    "\n",
    "ax2 = fig.add_subplot(1, 2, 2) \n",
    "ax2.bar(x = [1, 1], \n",
    "        height = [AveTheHomeTeamGoals, AveTheVisitingTeamGoals], \n",
    "        align = 'center', # align{'center', 'edge'}, default: 'center'\n",
    "        width = 0.15,\n",
    "        color = ['orange', 'c'],\n",
    "        bottom = [0, AveTheHomeTeamGoals], # bottom = bar coordinates\n",
    "        xerr = [[0.2, 0.3], [0.4, 0.1]], # xerr = [[0.2,0.4], [0.3,0.5]] or = [0.2, 0.1]\n",
    "        yerr = [[0.1, 0.5], [0.1, 0.2]],\n",
    "        ecolor = ['brown', 'green'])\n",
    "\n",
    "plt.xticks([1, 2], ['Home Time', 'Visiting Time'])\n",
    "\n",
    "ax2.set_ylim(0, 4)\n",
    "ax2.set_xlim(0.5, 2.5)\n",
    "\n",
    "fig.tight_layout(pad = 4.0)\n",
    "\n",
    "plt.show()"
   ]
  }
 ],
 "metadata": {
  "kernelspec": {
   "display_name": "Python 3 (ipykernel)",
   "language": "python",
   "name": "python3"
  },
  "language_info": {
   "codemirror_mode": {
    "name": "ipython",
    "version": 3
   },
   "file_extension": ".py",
   "mimetype": "text/x-python",
   "name": "python",
   "nbconvert_exporter": "python",
   "pygments_lexer": "ipython3",
   "version": "3.11.5"
  }
 },
 "nbformat": 4,
 "nbformat_minor": 5
}
