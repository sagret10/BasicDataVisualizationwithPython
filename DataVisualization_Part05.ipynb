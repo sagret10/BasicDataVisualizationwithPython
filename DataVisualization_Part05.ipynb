{
 "cells": [
  {
   "cell_type": "markdown",
   "id": "eafdf085-ce2f-4ec9-8698-6862463aaaca",
   "metadata": {},
   "source": [
    "# <font color='green'> Data Visualization </font>\n",
    "# <font color='Blue'> Part Five </font>"
   ]
  },
  {
   "cell_type": "markdown",
   "id": "81981c67-1ace-4551-b92b-52379192de9e",
   "metadata": {},
   "source": [
    "## <font color='Blue'> Author Details </font>"
   ]
  },
  {
   "cell_type": "code",
   "execution_count": 3,
   "id": "97b6946d-9c96-4cb5-adb1-30471e6ad738",
   "metadata": {},
   "outputs": [
    {
     "name": "stdout",
     "output_type": "stream",
     "text": [
      "Created the day:  02/09/2024\n",
      "Author: Dr. Marcos A. Albarracin Manrique\n"
     ]
    }
   ],
   "source": [
    "from datetime import datetime\n",
    "\n",
    "current_date_and_time = datetime.now()\n",
    "date_and_time_in_text = current_date_and_time.strftime('%d/%m/%Y')\n",
    "\n",
    "print('Created the day: ', date_and_time_in_text)\n",
    "print('Author: Dr. Marcos A. Albarracin Manrique') "
   ]
  },
  {
   "cell_type": "markdown",
   "id": "dcc7e295-c4f4-4cd3-87fc-61a0e099b5c2",
   "metadata": {},
   "source": [
    "## <font color='blue'> Description </font>"
   ]
  },
  {
   "cell_type": "markdown",
   "id": "ac2c1ff7-8b57-43b4-abe4-409e0893002c",
   "metadata": {},
   "source": [
    "> We will model the data from the file 'GoalsInLeague.txt'. This file contains the results of a number of football matches from a certain football league. The first line of the file stores the number of goals scored by the home teams and the second line stores the number of goals scored by the visiting teams."
   ]
  },
  {
   "cell_type": "markdown",
   "id": "143d8e83-0cc0-448e-9cfe-dd8ce5cd0e35",
   "metadata": {},
   "source": [
    "## <font color='blue'> Loading the Required Packages </font>"
   ]
  },
  {
   "cell_type": "code",
   "execution_count": 7,
   "id": "c0d63b8d-3870-451c-86e2-e1a3da9f8728",
   "metadata": {},
   "outputs": [],
   "source": [
    "import matplotlib.pyplot as plt                    \n",
    "from matplotlib.ticker import MultipleLocator      \n",
    "from matplotlib.ticker import FormatStrFormatter\n",
    "from matplotlib.patches import Rectangle\n",
    "import matplotlib.image as mpimg\n",
    "from mpl_toolkits.mplot3d import Axes3D\n",
    "import math\n",
    "import warnings\n",
    "warnings.filterwarnings('ignore')\n",
    "#%matplotlib widget"
   ]
  },
  {
   "cell_type": "markdown",
   "id": "8d0098a5-eb1b-47bd-87cf-7a56109c8a6d",
   "metadata": {},
   "source": [
    "- **In case we want to customize the graphics, we can use 'style'.**"
   ]
  },
  {
   "cell_type": "code",
   "execution_count": 9,
   "id": "06742b34-6ebc-4b2f-8ec8-b7fdc0a256f0",
   "metadata": {},
   "outputs": [],
   "source": [
    "#print(plt.style.available) \n",
    "plt.style.use(\"Solarize_Light2\")"
   ]
  },
  {
   "cell_type": "markdown",
   "id": "e931a76d-a23a-4442-b33f-f39e0e519cb7",
   "metadata": {},
   "source": [
    "## <font color='blue'> Opening, Reading, Formatting the File and Storing Data in Lists </font> "
   ]
  },
  {
   "cell_type": "code",
   "execution_count": 11,
   "id": "0913c569-67a7-4dec-9b6e-d5ece58dd0b2",
   "metadata": {},
   "outputs": [],
   "source": [
    "with open(\"GoalsInLeague.txt\", \"r\") as dataGoals:\n",
    "    # First line\n",
    "    TheHomeTeam = dataGoals.readline()\n",
    "    TheHomeTeam = TheHomeTeam.strip(\" \\n\") # Extra space + \\n\n",
    "    TheHomeTeam = TheHomeTeam.split(\" \")\n",
    "\n",
    "    TheHomeTeamGoals = [int(x) for x in TheHomeTeam]\n",
    "\n",
    "    # Second Line\n",
    "    TheVisitingTeam = dataGoals.readline()\n",
    "    TheVisitingTeam = TheVisitingTeam.strip(\" \\n\")\n",
    "    TheVisitingTeam = TheVisitingTeam.split(\" \")\n",
    "\n",
    "    TheVisitingTeamGoals = [int(x) for x in TheVisitingTeam]"
   ]
  },
  {
   "cell_type": "code",
   "execution_count": 12,
   "id": "df1c715c-f0dd-466f-b55e-ae8668d90c0b",
   "metadata": {},
   "outputs": [],
   "source": [
    "#print(TheHomeTeamGoals)\n",
    "#print(TheVisitingTeamGoals)"
   ]
  },
  {
   "cell_type": "markdown",
   "id": "ee1d09a4-3ab2-4dbc-b421-cac61672708c",
   "metadata": {},
   "source": [
    "## <font color='blue'> Box plot and Whisker plot </font> "
   ]
  },
  {
   "cell_type": "code",
   "execution_count": 23,
   "id": "d3cfe8dd-31e5-4715-8b3f-4427898dcef9",
   "metadata": {},
   "outputs": [
    {
     "data": {
      "image/png": "[encoded data removed]",
      "text/plain": [
       "<Figure size 600x600 with 1 Axes>"
      ]
     },
     "metadata": {},
     "output_type": "display_data"
    }
   ],
   "source": [
    "# Definition of the plot area.\n",
    "fig1 = plt.figure(\"Third\", figsize = (6, 6)) #(width, height) \n",
    "ax1 = fig1.add_subplot(1, 1, 1) \n",
    "\n",
    "ax1.boxplot(x = [TheHomeTeamGoals, TheVisitingTeamGoals],\n",
    "            positions = [0.5, 5],\n",
    "            sym = '+', # '^', '+', '*', 'o', '-'\n",
    "            whis = [10, 90], # interquarties number: default = 1.5, also: [10,90] --> 10 percentile (minimum) and 90 percentile (maximum)\n",
    "            widths = 0.4,\n",
    "            notch = True,\n",
    "            conf_intervals = [[0.9, 1.1], [0.2, 1.9]] # confidence interval [[None], [None]] None = default value\n",
    "            )\n",
    "\n",
    "ax1.set_ylim(0, 7)\n",
    "#ax1.set_ylim(-2, 7)\n",
    "\n",
    "plt.show()"
   ]
  },
  {
   "cell_type": "code",
   "execution_count": null,
   "id": "5b091ffb-27e1-446f-85ee-283883b29d42",
   "metadata": {},
   "outputs": [],
   "source": []
  }
 ],
 "metadata": {
  "kernelspec": {
   "display_name": "Python 3 (ipykernel)",
   "language": "python",
   "name": "python3"
  },
  "language_info": {
   "codemirror_mode": {
    "name": "ipython",
    "version": 3
   },
   "file_extension": ".py",
   "mimetype": "text/x-python",
   "name": "python",
   "nbconvert_exporter": "python",
   "pygments_lexer": "ipython3",
   "version": "3.11.5"
  }
 },
 "nbformat": 4,
 "nbformat_minor": 5
}
