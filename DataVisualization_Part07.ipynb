{
 "cells": [
  {
   "cell_type": "markdown",
   "id": "eafdf085-ce2f-4ec9-8698-6862463aaaca",
   "metadata": {},
   "source": [
    "# <font color='green'> Data Visualization </font>\n",
    "# <font color='Blue'> Part Seventh </font>"
   ]
  },
  {
   "cell_type": "markdown",
   "id": "81981c67-1ace-4551-b92b-52379192de9e",
   "metadata": {},
   "source": [
    "## <font color='Blue'> Author Details </font>"
   ]
  },
  {
   "cell_type": "code",
   "execution_count": 1,
   "id": "97b6946d-9c96-4cb5-adb1-30471e6ad738",
   "metadata": {},
   "outputs": [
    {
     "name": "stdout",
     "output_type": "stream",
     "text": [
      "Created the day:  04/09/2024\n",
      "Author: Dr. Marcos A. Albarracin Manrique\n"
     ]
    }
   ],
   "source": [
    "from datetime import datetime\n",
    "\n",
    "current_date_and_time = datetime.now()\n",
    "date_and_time_in_text = current_date_and_time.strftime('%d/%m/%Y')\n",
    "\n",
    "print('Created the day: ', date_and_time_in_text)\n",
    "print('Author: Dr. Marcos A. Albarracin Manrique') "
   ]
  },
  {
   "cell_type": "markdown",
   "id": "dcc7e295-c4f4-4cd3-87fc-61a0e099b5c2",
   "metadata": {},
   "source": [
    "## <font color='blue'> Description </font>"
   ]
  },
  {
   "cell_type": "markdown",
   "id": "ac2c1ff7-8b57-43b4-abe4-409e0893002c",
   "metadata": {},
   "source": [
    "> We will model the data from the file 'GoalsInLeague.txt'. This file contains the results of a number of football matches from a certain football league. The first line of the file stores the number of goals scored by the home teams and the second line stores the number of goals scored by the visiting teams."
   ]
  },
  {
   "cell_type": "markdown",
   "id": "143d8e83-0cc0-448e-9cfe-dd8ce5cd0e35",
   "metadata": {},
   "source": [
    "## <font color='blue'> Loading the Required Packages </font>"
   ]
  },
  {
   "cell_type": "code",
   "execution_count": 2,
   "id": "c0d63b8d-3870-451c-86e2-e1a3da9f8728",
   "metadata": {},
   "outputs": [],
   "source": [
    "import matplotlib.pyplot as plt                    \n",
    "from matplotlib.ticker import MultipleLocator      \n",
    "from matplotlib.ticker import FormatStrFormatter\n",
    "from matplotlib.patches import Rectangle\n",
    "import matplotlib.image as mpimg\n",
    "from mpl_toolkits.mplot3d import Axes3D\n",
    "import math\n",
    "import warnings\n",
    "warnings.filterwarnings('ignore')\n",
    "#%matplotlib widget"
   ]
  },
  {
   "cell_type": "markdown",
   "id": "8d0098a5-eb1b-47bd-87cf-7a56109c8a6d",
   "metadata": {},
   "source": [
    "- **In case we want to customize the graphics, we can use 'style'.**"
   ]
  },
  {
   "cell_type": "code",
   "execution_count": 3,
   "id": "06742b34-6ebc-4b2f-8ec8-b7fdc0a256f0",
   "metadata": {},
   "outputs": [],
   "source": [
    "#print(plt.style.available) \n",
    "plt.style.use(\"Solarize_Light2\")"
   ]
  },
  {
   "cell_type": "markdown",
   "id": "e931a76d-a23a-4442-b33f-f39e0e519cb7",
   "metadata": {},
   "source": [
    "## <font color='blue'> Opening, Reading, Formatting the File and Storing Data in Lists </font> "
   ]
  },
  {
   "cell_type": "code",
   "execution_count": 4,
   "id": "0913c569-67a7-4dec-9b6e-d5ece58dd0b2",
   "metadata": {},
   "outputs": [],
   "source": [
    "with open(\"GoalsInLeague.txt\", \"r\") as dataGoals:\n",
    "    # First line\n",
    "    TheHomeTeam = dataGoals.readline()\n",
    "    TheHomeTeam = TheHomeTeam.strip(\" \\n\") # Extra space + \\n\n",
    "    TheHomeTeam = TheHomeTeam.split(\" \")\n",
    "\n",
    "    TheHomeTeamGoals = [int(x) for x in TheHomeTeam]\n",
    "\n",
    "    # Second Line\n",
    "    TheVisitingTeam = dataGoals.readline()\n",
    "    TheVisitingTeam = TheVisitingTeam.strip(\" \\n\")\n",
    "    TheVisitingTeam = TheVisitingTeam.split(\" \")\n",
    "\n",
    "    TheVisitingTeamGoals = [int(x) for x in TheVisitingTeam]"
   ]
  },
  {
   "cell_type": "code",
   "execution_count": 5,
   "id": "df1c715c-f0dd-466f-b55e-ae8668d90c0b",
   "metadata": {},
   "outputs": [],
   "source": [
    "#print(TheHomeTeamGoals)\n",
    "#print(TheVisitingTeamGoals)"
   ]
  },
  {
   "cell_type": "markdown",
   "id": "f743bb30-8e29-48f6-98e7-43da54fea631",
   "metadata": {},
   "source": [
    "## <font color='blue'> Dimensional Histograms  </font>"
   ]
  },
  {
   "cell_type": "code",
   "execution_count": 6,
   "id": "51ce4ebb-8e32-4f2b-b5cc-bbbd7df19d0c",
   "metadata": {},
   "outputs": [
    {
     "data": {
      "image/png": "[encoded data removed]",
      "text/plain": [
       "<Figure size 1296x432 with 4 Axes>"
      ]
     },
     "metadata": {},
     "output_type": "display_data"
    }
   ],
   "source": [
    "# Plot area definition.\n",
    "fig = plt.figure(\"Fourth\", figsize = (18, 6)) #(width, height) \n",
    "\n",
    "ax1 = fig.add_subplot(1, 3, 1) \n",
    "plt.hist2d(x = TheHomeTeamGoals, \n",
    "           y = TheVisitingTeamGoals,\n",
    "           bins = [range(8), range(7)], # [xbins, ybins] = [7, 6] or [range(8), range(7)] <> [8, 7] or range(8) <> [8, ,8]\n",
    "           cmap = 'jet')\n",
    "plt.colorbar()\n",
    "\n",
    "ax2 = fig.add_subplot(1, 3, 2) \n",
    "plt.hist(TheHomeTeamGoals, bins = 7, ec = 'black')\n",
    "\n",
    "ax3 = fig.add_subplot(1, 3, 3) \n",
    "plt.hist(TheVisitingTeamGoals, bins = 6, ec = 'black')\n",
    "\n",
    "fig.tight_layout(pad = 4.0)\n",
    "\n",
    "plt.show()"
   ]
  },
  {
   "cell_type": "markdown",
   "id": "8b9cef32-6aa2-40b4-ba64-bf74773494aa",
   "metadata": {},
   "source": [
    "### <font color='red'> Color maps </font>"
   ]
  },
  {
   "cell_type": "code",
   "execution_count": 7,
   "id": "f1323e6e-d6c9-4f13-88ee-f7e60d39a478",
   "metadata": {},
   "outputs": [
    {
     "data": {
      "image/png": "[encoded data removed]",
      "text/plain": [
       "<Figure size 432x432 with 1 Axes>"
      ]
     },
     "metadata": {},
     "output_type": "display_data"
    }
   ],
   "source": [
    "# Plot area definition.\n",
    "fig1 = plt.figure(\"Fifth\", figsize = (6, 6)) #(width, height) \n",
    "\n",
    "ax4 = fig1.add_subplot(1, 1, 1) \n",
    "\n",
    "cmap = plt.cm.get_cmap(\"jet\", 7) # color style name, color blocks\n",
    "colors = cmap(range(8)) # [0,1,2,3,4,....] applying to the bin numbers\n",
    "n, bins, patches = plt.hist(TheHomeTeamGoals, bins = range(8), ec = 'black')\n",
    "\n",
    "#for i in range(len(colors)):\n",
    "#    color = colors[i]\n",
    "#    patch = patches[i]\n",
    "\n",
    "# ['red', 'green', .... '(0, .5, 1, (1))']\n",
    "for color, patch in zip(colors, patches):\n",
    "    patch.set_facecolor(color)\n",
    "\n",
    "plt.show()"
   ]
  },
  {
   "cell_type": "code",
   "execution_count": 8,
   "id": "ad215943-677e-40e0-a071-f6b18b7832e5",
   "metadata": {},
   "outputs": [
    {
     "data": {
      "image/png": "[encoded data removed]",
      "text/plain": [
       "<Figure size 432x432 with 2 Axes>"
      ]
     },
     "metadata": {},
     "output_type": "display_data"
    }
   ],
   "source": [
    "# Plot area definition.\n",
    "fig2 = plt.figure(\"Sixth\", figsize = (6, 6)) #(width, height) \n",
    "\n",
    "ax5 = fig2.add_subplot(1, 1, 1) \n",
    "counts, xedges, yedges, Image = plt.hist2d(x = TheHomeTeamGoals, \n",
    "                                           y = TheVisitingTeamGoals,\n",
    "                                           bins = [range(8), range(7)], # [xbins,ybins]=[7,6] or [range(8),range(7)]<>[8,7] \n",
    "                                                                        # or range(8)<>[8,,8]\n",
    "                                           cmap = plt.cm.jet # cmap = 'jet' or plt.cm.ocean ou plt.cm.hot or plt.cm.jet_r (reverse), etc.\n",
    "                                           )\n",
    "extent = [xedges[0], xedges[-1], yedges[0], yedges[-1]]\n",
    "im = ax5.imshow(counts, extent = extent, cmap = plt.cm.jet)\n",
    "\n",
    "plt.colorbar(im, ax = ax5)\n",
    "#plt.colorbar()\n",
    "\n",
    "plt.show()"
   ]
  }
 ],
 "metadata": {
  "kernelspec": {
   "display_name": "Python 3 (ipykernel)",
   "language": "python",
   "name": "python3"
  },
  "language_info": {
   "codemirror_mode": {
    "name": "ipython",
    "version": 3
   },
   "file_extension": ".py",
   "mimetype": "text/x-python",
   "name": "python",
   "nbconvert_exporter": "python",
   "pygments_lexer": "ipython3",
   "version": "3.10.12"
  }
 },
 "nbformat": 4,
 "nbformat_minor": 5
}
